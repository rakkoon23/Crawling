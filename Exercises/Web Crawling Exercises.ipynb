{
 "cells": [
  {
   "cell_type": "markdown",
   "metadata": {},
   "source": [
    "# Web Crawling Exercises"
   ]
  },
  {
   "cell_type": "markdown",
   "metadata": {},
   "source": [
    "## 간단한 크롤링 예제\n",
    "- url: http://dowellcomputer.com/main.jsp\n",
    "- reference: https://www.youtube.com/watch?v=kiowbtjDrWo"
   ]
  },
  {
   "cell_type": "code",
   "execution_count": 3,
   "metadata": {},
   "outputs": [],
   "source": [
    "# URL 접속\n",
    "request = requests.get(\"http://dowellcomputer.com/main.jsp\")"
   ]
  },
  {
   "cell_type": "code",
   "execution_count": 5,
   "metadata": {},
   "outputs": [],
   "source": [
    "# 소스 코드 추출\n",
    "html = request.text"
   ]
  },
  {
   "cell_type": "code",
   "execution_count": 11,
   "metadata": {},
   "outputs": [],
   "source": [
    "# 파이썬 객체로 반환\n",
    "soup = BeautifulSoup(html, \"html.parser\")"
   ]
  },
  {
   "cell_type": "code",
   "execution_count": 15,
   "metadata": {},
   "outputs": [],
   "source": [
    "# <a> 태그를 포함하는 요소 추출\n",
    "links = soup.select('td > a')"
   ]
  },
  {
   "cell_type": "code",
   "execution_count": 19,
   "metadata": {},
   "outputs": [
    {
     "name": "stdout",
     "output_type": "stream",
     "text": [
      "자바 기초 프로그래밍 강좌를 완강했습니다.\n",
      "컴잘알에 오신 것을 환영합니다.\n"
     ]
    }
   ],
   "source": [
    "# 모든 링크에 하나씩 접근\n",
    "for link in links:\n",
    "  # 링크가 href 속성을 지니고 있다면\n",
    "  if link.has_attr('href'):\n",
    "    # href 속성의 값으로 notice라는 문자열이 포함되어 있다면,\n",
    "    if link.get('href').find('notice') != -1:\n",
    "      print(link.text)"
   ]
  },
  {
   "cell_type": "markdown",
   "metadata": {},
   "source": [
    "## 네이버 영화 랭킹 페이지 크롤링\n",
    "- url: https://movie.naver.com/movie/sdb/rank/rmovie.nhn"
   ]
  },
  {
   "cell_type": "code",
   "execution_count": 34,
   "metadata": {},
   "outputs": [],
   "source": [
    "import requests\n",
    "from bs4 import BeautifulSoup\n",
    "import re"
   ]
  },
  {
   "cell_type": "code",
   "execution_count": 21,
   "metadata": {},
   "outputs": [],
   "source": [
    "url = requests.get(\"https://movie.naver.com/movie/sdb/rank/rmovie.nhn\")"
   ]
  },
  {
   "cell_type": "code",
   "execution_count": 22,
   "metadata": {},
   "outputs": [],
   "source": [
    "html = url.text"
   ]
  },
  {
   "cell_type": "code",
   "execution_count": 23,
   "metadata": {},
   "outputs": [],
   "source": [
    "soup = BeautifulSoup(html, \"html.parser\")"
   ]
  },
  {
   "cell_type": "code",
   "execution_count": 29,
   "metadata": {},
   "outputs": [],
   "source": [
    "links = soup.select('td.title > div.tit3')"
   ]
  },
  {
   "cell_type": "code",
   "execution_count": 49,
   "metadata": {},
   "outputs": [],
   "source": [
    "movie = []\n",
    "for link in links:\n",
    "  movie.append(link.get_text().strip())"
   ]
  },
  {
   "cell_type": "code",
   "execution_count": 50,
   "metadata": {},
   "outputs": [
    {
     "name": "stdout",
     "output_type": "stream",
     "text": [
      "['마약왕', '아쿠아맨', '스윙키즈', '보헤미안 랩소디', '범블비', '완벽한 타인', '스파이더맨: 뉴 유니버스', '국가부도의 날', '도어락', '그린치', 'PMC: 더 벙커', '부탁 하나만 들어줘', '극장판 짱구는 못말려: 아뵤! 쿵후 보이즈 ~라면 대란~', '버드 박스', '성난황소', '극장판 포켓몬스터 모두의 이야기', '헌터 킬러', '로마', '점박이 한반도의 공룡2 : 새로운 낙원', '언니', '뺑반', '상류시대', '신비한 동물들과 그린델왈드의 범죄', '데드풀2: 순한 맛', '가정부 길들이기', '삼국-무영자', '말모이', '러빙 빈센트', '리벤져', '호두까기 인형과 4개의 왕국', '베일리 어게인', '어벤져스: 엔드게임', '나 홀로 집에', '인생 후르츠', '배틀 트랩', '동네사람들', '러브 액츄얼리', '그날의 분위기', '메리 셸리: 프랑켄슈타인의 탄생', '나 홀로 집에 3', '더 파티', '내안의 그놈', '미스터 스마일', '베놈', '극한직업', '너의 췌장을 먹고 싶어', '저스티스 리그', '하나 빼고 완벽한 뉴욕 아파트', '군산: 거위를 노래하다', '미쓰백']\n"
     ]
    }
   ],
   "source": [
    "print(movie)"
   ]
  },
  {
   "cell_type": "markdown",
   "metadata": {},
   "source": [
    "## naver news 크롤링\n",
    "- url = http://news.naver.com\n",
    "- reference: https://www.youtube.com/watch?v=uQVOETdAl5g&feature=youtu.be"
   ]
  },
  {
   "cell_type": "code",
   "execution_count": 14,
   "metadata": {},
   "outputs": [],
   "source": [
    "from urllib.request import urlopen\n",
    "from bs4 import BeautifulSoup"
   ]
  },
  {
   "cell_type": "code",
   "execution_count": 47,
   "metadata": {},
   "outputs": [],
   "source": [
    "url = 'http://news.naver.com'"
   ]
  },
  {
   "cell_type": "code",
   "execution_count": 48,
   "metadata": {},
   "outputs": [],
   "source": [
    "html = urlopen(url)"
   ]
  },
  {
   "cell_type": "code",
   "execution_count": 49,
   "metadata": {},
   "outputs": [],
   "source": [
    "soup = BeautifulSoup(html.read(), 'html.parser')"
   ]
  },
  {
   "cell_type": "code",
   "execution_count": 83,
   "metadata": {},
   "outputs": [],
   "source": [
    "titles = soup.findAll('div', {'class' : 'newsnow_tx_inner'})\n",
    "# title = soup.select('div.newsnow_tx_inner')과 같은 결과"
   ]
  },
  {
   "cell_type": "code",
   "execution_count": 84,
   "metadata": {},
   "outputs": [],
   "source": [
    "subjects = []\n",
    "for title in titles:\n",
    "  links = title.findAll('a')\n",
    "  for link in links:\n",
    "    subject = link.text\n",
    "    subjects.append(subject)"
   ]
  },
  {
   "cell_type": "code",
   "execution_count": 93,
   "metadata": {},
   "outputs": [
    {
     "name": "stdout",
     "output_type": "stream",
     "text": [
      "오늘의 기사1: 남북 철도·도로, 본격 연결까진 '산 넘어 산'…남은 절차는?\n",
      "오늘의 기사2: '김용균 법·유치원 3법' 또 표류…법안 처리는 언제?\n",
      "오늘의 기사3: 폐원 신청·검토 1백 곳 넘는데…\"어디로 가야 하나요\"\n",
      "오늘의 기사4: 청와대 전격 압수수색 배경은?…수사로 진실 밝힐까\n",
      "오늘의 기사5: 밤사이 전국 '꽁꽁'…올 겨울 최강 한파 온다\n",
      "오늘의 기사6: 타미플루 먹여도 되나…'부작용 우려' 불안한 부모들\n",
      "오늘의 기사7: 美 국경 억류 이민자 아이 또 숨졌지만… 꿈쩍않는 트럼프\n",
      "오늘의 기사8: '재벌가 저택' 공시가 대폭 인상…세금은 언제 현실화?\n",
      "오늘의 기사9: \"10개월 지났지만 변한 게 없다\"…무자격자 보일러 설치 비극\n",
      "오늘의 기사10: '석면 폐암 대위' 재심 약속했지만…보훈처 '국감' 핑계\n"
     ]
    }
   ],
   "source": [
    "for i, n in enumerate(subjects):\n",
    "  i += 1\n",
    "  print('오늘의 기사' + str(i) + ':', n)"
   ]
  }
 ],
 "metadata": {
  "kernelspec": {
   "display_name": "Python 3",
   "language": "python",
   "name": "python3"
  },
  "language_info": {
   "codemirror_mode": {
    "name": "ipython",
    "version": 3
   },
   "file_extension": ".py",
   "mimetype": "text/x-python",
   "name": "python",
   "nbconvert_exporter": "python",
   "pygments_lexer": "ipython3",
   "version": "3.5.6"
  }
 },
 "nbformat": 4,
 "nbformat_minor": 2
}
